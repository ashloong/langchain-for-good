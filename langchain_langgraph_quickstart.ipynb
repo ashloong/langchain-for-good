{
 "cells": [
  {
   "cell_type": "markdown",
   "id": "05b268f9",
   "metadata": {},
   "source": [
    "# LangChain + LangGraph: 25‑Minute Quickstart\n",
    "\n",
    "\n",
    "This hands-on notebook gives you a fast tour of core concepts:\n",
    "- Prompt Templates\n",
    "- Chat Models (OpenAI)\n",
    "- Chaining / LCEL (basic)\n",
    "- Structured Output\n",
    "- Tool Calling\n",
    "- Workflows with LangGraph\n",
    "- Agents with LangGraph\n"
   ]
  },
  {
   "cell_type": "markdown",
   "id": "36ad790d",
   "metadata": {},
   "source": [
    "## 1) Setup\n",
    "\n"
   ]
  },
  {
   "cell_type": "markdown",
   "id": "fe96616f",
   "metadata": {},
   "source": [
    "Set your OpenAI key (skip if already in your shell env)."
   ]
  },
  {
   "cell_type": "code",
   "execution_count": 7,
   "id": "09c4323f",
   "metadata": {},
   "outputs": [
    {
     "data": {
      "text/plain": [
       "True"
      ]
     },
     "execution_count": 7,
     "metadata": {},
     "output_type": "execute_result"
    }
   ],
   "source": [
    "from dotenv import load_dotenv\n",
    "load_dotenv(dotenv_path=\".env\")\n",
    "# os.environ[\"OPENAI_API_KEY\"] = \"sk-...\"  # <-- Prefer setting in your .env instead of hardcoding\n"
   ]
  },
  {
   "cell_type": "markdown",
   "id": "236d5dd3",
   "metadata": {},
   "source": [
    "## 2) Prompt Templates\n",
    "\n",
    "LangChain helps you compose prompts in a structured, reusable way.\n",
    "We'll use `ChatPromptTemplate` to create a multi-turn style prompt.\n"
   ]
  },
  {
   "cell_type": "code",
   "execution_count": 1,
   "id": "1fdc3238",
   "metadata": {},
   "outputs": [
    {
     "data": {
      "text/plain": [
       "[SystemMessage(content=\"\\n\\nYou are a helpful and accurate date assistant. \\nYou are given a user's request, and today's date. Your job is to accurately infer the date from the user's request.\\n\\ntoday's date : 2025-10-15\\n\\nchat_history:\\n\\n\", additional_kwargs={}, response_metadata={}),\n",
       " HumanMessage(content=\"\\nWhat is tomorrow's date?\\n\", additional_kwargs={}, response_metadata={})]"
      ]
     },
     "execution_count": 1,
     "metadata": {},
     "output_type": "execute_result"
    }
   ],
   "source": [
    "from prompts import DATE_ASSISTANT_SYSTEM_PROMPT\n",
    "from datetime import datetime\n",
    "from langchain.prompts import ChatPromptTemplate\n",
    "\n",
    "prompt = ChatPromptTemplate.from_messages([\n",
    "    (\"system\", DATE_ASSISTANT_SYSTEM_PROMPT),\n",
    "    (\"human\", \"{user_query}\")\n",
    "])\n",
    "\n",
    "example_user_query = \"\"\"\n",
    "What is tomorrow's date?\n",
    "\"\"\"\n",
    "\n",
    "messages = prompt.format_messages(user_query = example_user_query, \n",
    "                                    todays_date = datetime.now().strftime(\"%Y-%m-%d\"))  # Shows message objects ready for a chat model\n",
    "\n",
    "messages\n"
   ]
  },
  {
   "cell_type": "markdown",
   "id": "c3883f54",
   "metadata": {},
   "source": [
    "## 3) Chat Models (OpenAI)\n",
    "\n",
    "We'll call OpenAI via `langchain-openai`. The default model below is a fast, reasonably capable chat model.\n"
   ]
  },
  {
   "cell_type": "code",
   "execution_count": 2,
   "id": "1da0a154",
   "metadata": {},
   "outputs": [
    {
     "name": "stdout",
     "output_type": "stream",
     "text": [
      "Tomorrow's date is 2025-10-16.\n"
     ]
    }
   ],
   "source": [
    "from langchain_openai import ChatOpenAI\n",
    "\n",
    "# Tip: You can switch models later, e.g. \"gpt-4o-mini\", \"o4-mini\", etc.\n",
    "llm = ChatOpenAI(model=\"gpt-4o-mini\", temperature=0)\n",
    "response = llm.invoke(messages)\n",
    "print(response.content)\n"
   ]
  },
  {
   "cell_type": "markdown",
   "id": "3a35d225",
   "metadata": {},
   "source": [
    "## 4) Chaining with LCEL (LangChain Expression Language)\n",
    "\n",
    "LCEL lets you pipe components together with `|` for clean, testable flows.\n"
   ]
  },
  {
   "cell_type": "code",
   "execution_count": 3,
   "id": "1bda41d4",
   "metadata": {},
   "outputs": [
    {
     "name": "stdout",
     "output_type": "stream",
     "text": [
      "Tomorrow's date is 2025-10-16.\n"
     ]
    }
   ],
   "source": [
    "from langchain_core.output_parsers import StrOutputParser\n",
    "\n",
    "chain = prompt | llm | StrOutputParser()\n",
    "\n",
    "\n",
    "print(chain.invoke({ 'user_query' : example_user_query, \n",
    "                    'todays_date' : datetime.now().strftime(\"%Y-%m-%d\") }))\n"
   ]
  },
  {
   "cell_type": "markdown",
   "id": "ddb46a4c",
   "metadata": {},
   "source": [
    "## 5) Structured Output\n",
    "\n",
    "When you need JSON you can trust, use Pydantic schemas and `with_structured_output`.  \n",
    "This guides the model to return well-typed data (and validates it)."
   ]
  },
  {
   "cell_type": "code",
   "execution_count": 4,
   "id": "e2658e25",
   "metadata": {},
   "outputs": [
    {
     "data": {
      "text/plain": [
       "DateRange(start_date='2025-10-16', end_date='2025-10-19')"
      ]
     },
     "execution_count": 4,
     "metadata": {},
     "output_type": "execute_result"
    }
   ],
   "source": [
    "from typing import List, Optional, TypedDict\n",
    "from pydantic import BaseModel, Field\n",
    "from prompts import DATE_EXTRACTOR_PROMPT_TEMPLATE\n",
    "\n",
    "# You can define structure with Pydantic\n",
    "class DateRange(BaseModel):\n",
    "    start_date: str = Field(default = None, description=\"Start Date of the date range\")\n",
    "    end_date: str = Field(default = None, description=\"End Date of the date range\")\n",
    "\n",
    "# OR you can define structure with TypedDict\n",
    "# class DateRange(TypedDict):\n",
    "#     start_date: str\n",
    "#     end_date: str\n",
    "\n",
    "llm = ChatOpenAI(model=\"gpt-4o-mini\", temperature=0)\n",
    "\n",
    "structured_llm = llm.with_structured_output(DateRange)\n",
    "\n",
    "prompt = ChatPromptTemplate.from_messages([\n",
    "    (\"system\", DATE_EXTRACTOR_PROMPT_TEMPLATE),\n",
    "    (\"human\", \"{user_query}\")\n",
    "])\n",
    "\n",
    "\n",
    "user_query = \"I need time off for the next 4 days\"\n",
    "todays_date = datetime.now().strftime(\"%Y-%m-%d\")\n",
    "\n",
    "\n",
    "chain = prompt | structured_llm\n",
    "\n",
    "llm_response = chain.invoke({'todays_date': todays_date, 'user_query': user_query})\n",
    "llm_response\n"
   ]
  },
  {
   "cell_type": "markdown",
   "id": "a68ee2c8",
   "metadata": {},
   "source": [
    "## 6) Tool Calling\n",
    "\n",
    "Models can choose from functions (tools) you expose.  \n",
    "We'll define a simple calculator tool and let the model decide when to use it.\n"
   ]
  },
  {
   "cell_type": "code",
   "execution_count": 5,
   "id": "81b99684",
   "metadata": {},
   "outputs": [
    {
     "name": "stdout",
     "output_type": "stream",
     "text": [
      "Model output Type <class 'langchain_core.messages.ai.AIMessage'>\n",
      "Model output content='' additional_kwargs={'tool_calls': [{'id': 'call_grYEroF463QYIchLo7Q0abTK', 'function': {'arguments': '{\"radius\":3}', 'name': 'circle_area'}, 'type': 'function'}], 'refusal': None} response_metadata={'token_usage': {'completion_tokens': 14, 'prompt_tokens': 62, 'total_tokens': 76, 'completion_tokens_details': {'accepted_prediction_tokens': 0, 'audio_tokens': 0, 'reasoning_tokens': 0, 'rejected_prediction_tokens': 0}, 'prompt_tokens_details': {'audio_tokens': 0, 'cached_tokens': 0}}, 'model_name': 'gpt-4o-mini-2024-07-18', 'system_fingerprint': 'fp_560af6e559', 'id': 'chatcmpl-CQrrYdrU6miqBS1t9YnmYJGLPsUWU', 'service_tier': 'default', 'finish_reason': 'tool_calls', 'logprobs': None} id='run--26d7e6c9-0e6c-43fd-958c-2c0dbbb59624-0' tool_calls=[{'name': 'circle_area', 'args': {'radius': 3}, 'id': 'call_grYEroF463QYIchLo7Q0abTK', 'type': 'tool_call'}] usage_metadata={'input_tokens': 62, 'output_tokens': 14, 'total_tokens': 76, 'input_token_details': {'audio': 0, 'cache_read': 0}, 'output_token_details': {'audio': 0, 'reasoning': 0}}\n",
      "Tool calls (if any): [{'name': 'circle_area', 'args': {'radius': 3}, 'id': 'call_grYEroF463QYIchLo7Q0abTK', 'type': 'tool_call'}]\n"
     ]
    }
   ],
   "source": [
    "from langchain.tools import tool\n",
    "from langchain_core.messages import HumanMessage\n",
    "import math\n",
    "\n",
    "@tool\n",
    "def circle_area(radius: float) -> float:\n",
    "    \"\"\"Return the area of a circle for a given radius.\"\"\"\n",
    "    return math.pi * radius * radius\n",
    "\n",
    "tools = [circle_area]\n",
    "\n",
    "# Bind tools to the model so it can decide to call them\n",
    "llm_with_tools = llm.bind_tools(tools)\n",
    "\n",
    "msg = HumanMessage(content=\"I have a circular garden of radius 3. What's the area?\")\n",
    "ai_msg = llm_with_tools.invoke([msg])\n",
    "\n",
    "print(\"Model output Type\", type(ai_msg))\n",
    "print(\"Model output\", ai_msg)\n",
    "print(\"Tool calls (if any):\", getattr(ai_msg, \"tool_calls\", None))\n",
    "\n",
    "# If a tool call is present, execute it and return a final answer:\n",
    "\n",
    "# final = None\n",
    "# if getattr(ai_msg, \"tool_calls\", None):\n",
    "#     for tool_call in ai_msg.tool_calls:\n",
    "#         if tool_call[\"name\"] == \"circle_area\":\n",
    "#             r = float(tool_call[\"args\"][\"radius\"])\n",
    "#             result = circle_area.invoke({\"radius\": r})\n",
    "#             final = f\"The area is approximately {result:.2f} square units.\"\n",
    "# else:\n",
    "#     final = ai_msg.content\n",
    "\n",
    "# print(\"Final:\", final)\n"
   ]
  },
  {
   "cell_type": "markdown",
   "id": "8411c037",
   "metadata": {},
   "source": [
    "## 7) LangGraph: Workflows\n",
    "\n",
    "LangGraph builds **stateful** graphs for control flow (branching, loops, retries).  \n",
    "We'll create a tiny graph with one node that calls the model, and a conditional router.\n",
    "\n",
    "![Diagram](./notebook_images/nodes_state_edges.png)\n"
   ]
  },
  {
   "cell_type": "code",
   "execution_count": 6,
   "id": "7bd80509",
   "metadata": {},
   "outputs": [],
   "source": [
    "from typing import TypedDict, List\n",
    "from langgraph.graph import StateGraph, START, END\n",
    "from langchain_core.messages import AnyMessage, AIMessage\n",
    "from pydantic import BaseModel, Field\n",
    "from prompts import INTENT_DETECTION_TEMPLATE\n",
    "\n",
    "#state\n",
    "class GraphState(TypedDict):\n",
    "    messages: List[AnyMessage]\n"
   ]
  },
  {
   "cell_type": "code",
   "execution_count": 8,
   "id": "a952e1a2",
   "metadata": {},
   "outputs": [],
   "source": [
    "#Define the graph nodes\n",
    "\n",
    "llm = ChatOpenAI(model=\"gpt-4o-mini\", temperature=0)\n",
    "\n",
    "\n",
    "def intent_node(state: GraphState) -> GraphState:\n",
    "\n",
    "    class Intent(BaseModel):\n",
    "        intent: str = Field(..., description=\"User intent. One of:  TIMEOFF, GREETING, OTHER\")\n",
    "\n",
    "    structured_llm = llm.with_structured_output(Intent)\n",
    "    prompt = ChatPromptTemplate.from_messages([('system', INTENT_DETECTION_TEMPLATE)] + state['messages'])\n",
    "    chain = prompt | structured_llm\n",
    "    response = chain.invoke(state)\n",
    "\n",
    "    return {\"messages\": state[\"messages\"] + [AIMessage(content= response.intent)]}\n",
    "\n",
    "def time_off_node(state: GraphState) -> GraphState:\n",
    "    ai_msg = AIMessage(content=\"Sure, I can help you with your time off request\")\n",
    "    return {\"messages\": state[\"messages\"] + [ai_msg]}\n",
    "\n",
    "def greeting_node(state: GraphState) -> GraphState:\n",
    "    ai_msg = AIMessage(content=\"Hello, how can I help you today?\")\n",
    "    return {\"messages\": state[\"messages\"] + [ai_msg]}\n",
    "\n",
    "def other_node(state: GraphState) -> GraphState:\n",
    "    ai_msg = AIMessage(content=\"I'm sorry, I don't understand. Please try again.\")\n",
    "    return {\"messages\": state[\"messages\"] + [ai_msg]} "
   ]
  },
  {
   "cell_type": "code",
   "execution_count": 10,
   "id": "1102693a",
   "metadata": {},
   "outputs": [
    {
     "data": {
      "image/png": "[encoded data removed]",
      "text/plain": [
       "<langgraph.graph.state.CompiledStateGraph object at 0x000002092B8C0050>"
      ]
     },
     "execution_count": 10,
     "metadata": {},
     "output_type": "execute_result"
    }
   ],
   "source": [
    "  \n",
    "\n",
    "# Initialize the graph\n",
    "graph = StateGraph(GraphState)\n",
    "graph.add_node(\"intent_node\", intent_node)\n",
    "graph.add_node(\"time_off_node\", time_off_node)\n",
    "graph.add_node(\"greeting_node\", greeting_node)\n",
    "graph.add_node(\"other_node\", other_node)\n",
    "\n",
    "# Simple router: route to the correct branch based on the intent\n",
    "def router(state: GraphState) -> str:\n",
    "    last = state[\"messages\"][-1]\n",
    "    text = getattr(last, \"content\", \"\").lower()\n",
    "\n",
    "    \n",
    "    if text == \"timeoff\":\n",
    "        return \"time_off_node\"\n",
    "    elif text == \"greeting\":\n",
    "        return \"greeting_node\"\n",
    "    elif text == \"other\":\n",
    "        return \"other_node\"\n",
    "    else:\n",
    "        return 'end'\n",
    "\n",
    "# Add edges\n",
    "graph.add_edge(START, \"intent_node\")\n",
    "graph.add_conditional_edges(\"intent_node\", router, {\"end\": END, \"time_off_node\": \"time_off_node\", \"greeting_node\": \"greeting_node\", \"other_node\": \"other_node\"})\n",
    "\n",
    "\n",
    "workflow = graph.compile()\n",
    "workflow"
   ]
  },
  {
   "cell_type": "code",
   "execution_count": 11,
   "id": "6584ddc5",
   "metadata": {},
   "outputs": [
    {
     "data": {
      "text/plain": [
       "{'messages': [HumanMessage(content='Hello', additional_kwargs={}, response_metadata={}),\n",
       "  AIMessage(content='GREETING', additional_kwargs={}, response_metadata={}),\n",
       "  AIMessage(content='Hello, how can I help you today?', additional_kwargs={}, response_metadata={})]}"
      ]
     },
     "execution_count": 11,
     "metadata": {},
     "output_type": "execute_result"
    }
   ],
   "source": [
    "user_query = \"Hello\"\n",
    "# user_query = \"I would like to apply for time off\"\n",
    "# user_query = \"What is the weather like in SF\"\n",
    "\n",
    "response = workflow.invoke({\"messages\": [HumanMessage(content= user_query)]})\n",
    "response"
   ]
  },
  {
   "cell_type": "code",
   "execution_count": 12,
   "id": "4047a053",
   "metadata": {},
   "outputs": [
    {
     "data": {
      "text/plain": [
       "'Hello, how can I help you today?'"
      ]
     },
     "execution_count": 12,
     "metadata": {},
     "output_type": "execute_result"
    }
   ],
   "source": [
    "response[\"messages\"][-1].content"
   ]
  },
  {
   "cell_type": "markdown",
   "id": "2fb6446f",
   "metadata": {},
   "source": [
    "## 8) LangGraph: Agents (Prebuilt ReAct)\n",
    "\n",
    "LangGraph includes prebuilt agent constructors like `create_react_agent`.  \n",
    "We'll give the agent a couple of trivial tools and see how it plans + acts.\n",
    "\n",
    "\n",
    "![Diagram](./notebook_images/react.png)"
   ]
  },
  {
   "cell_type": "code",
   "execution_count": 18,
   "id": "97f7b492",
   "metadata": {},
   "outputs": [
    {
     "name": "stdout",
     "output_type": "stream",
     "text": [
      "{'agent': {'messages': [AIMessage(content='', additional_kwargs={'tool_calls': [{'id': 'call_rBLjoeV56y6iDyjmYZIR7PBO', 'function': {'arguments': '{\"f\":77}', 'name': 'to_celsius'}, 'type': 'function'}], 'refusal': None}, response_metadata={'token_usage': {'completion_tokens': 15, 'prompt_tokens': 80, 'total_tokens': 95, 'completion_tokens_details': {'accepted_prediction_tokens': 0, 'audio_tokens': 0, 'reasoning_tokens': 0, 'rejected_prediction_tokens': 0}, 'prompt_tokens_details': {'audio_tokens': 0, 'cached_tokens': 0}}, 'model_name': 'gpt-4o-mini-2024-07-18', 'system_fingerprint': 'fp_560af6e559', 'id': 'chatcmpl-CQrznrpqEUBJY5IQShCnaqATJj2Ji', 'service_tier': 'default', 'finish_reason': 'tool_calls', 'logprobs': None}, id='run--4143abea-c59e-4750-9d57-b789b1614f90-0', tool_calls=[{'name': 'to_celsius', 'args': {'f': 77}, 'id': 'call_rBLjoeV56y6iDyjmYZIR7PBO', 'type': 'tool_call'}], usage_metadata={'input_tokens': 80, 'output_tokens': 15, 'total_tokens': 95, 'input_token_details': {'audio': 0, 'cache_read': 0}, 'output_token_details': {'audio': 0, 'reasoning': 0}})]}}\n",
      "{'tools': {'messages': [ToolMessage(content='25.0', name='to_celsius', id='6ce7e8d7-1615-4280-ad75-009ed899c8c6', tool_call_id='call_rBLjoeV56y6iDyjmYZIR7PBO')]}}\n",
      "{'agent': {'messages': [AIMessage(content='77°F is approximately 25.0°C when rounded to one decimal place.', additional_kwargs={'refusal': None}, response_metadata={'token_usage': {'completion_tokens': 17, 'prompt_tokens': 107, 'total_tokens': 124, 'completion_tokens_details': {'accepted_prediction_tokens': 0, 'audio_tokens': 0, 'reasoning_tokens': 0, 'rejected_prediction_tokens': 0}, 'prompt_tokens_details': {'audio_tokens': 0, 'cached_tokens': 0}}, 'model_name': 'gpt-4o-mini-2024-07-18', 'system_fingerprint': 'fp_560af6e559', 'id': 'chatcmpl-CQrzoZsXxtGfLwr0bHZutOGBKHlTe', 'service_tier': 'default', 'finish_reason': 'stop', 'logprobs': None}, id='run--6b5bdeca-63e2-45b7-aa7b-766d363d0e30-0', usage_metadata={'input_tokens': 107, 'output_tokens': 17, 'total_tokens': 124, 'input_token_details': {'audio': 0, 'cache_read': 0}, 'output_token_details': {'audio': 0, 'reasoning': 0}})]}}\n"
     ]
    }
   ],
   "source": [
    "from langgraph.prebuilt import create_react_agent\n",
    "from langchain_core.messages import AnyMessage, AIMessage, ToolMessage\n",
    "\n",
    "@tool\n",
    "def to_celsius(f: float) -> float:\n",
    "    \"\"\"Convert Fahrenheit to Celsius\"\"\"\n",
    "    return (f - 32) * 5/9\n",
    "\n",
    "@tool\n",
    "def to_fahrenheit(c: float) -> float:\n",
    "    \"\"\"Convert Celsius to Fahrenheit\"\"\"\n",
    "    return (c * 9/5) + 32\n",
    "\n",
    "agent = create_react_agent(llm, tools=[to_celsius, to_fahrenheit])\n",
    "\n",
    "# The agent returns a stream of steps; we can iterate until it yields a final answer.\n",
    "from langgraph.checkpoint.memory import MemorySaver\n",
    "memory = MemorySaver()\n",
    "\n",
    "# Single turn\n",
    "events = agent.stream(\n",
    "    {\"messages\": [HumanMessage(content=\"It's 77F outside. What's that in Celsius, rounded to 1 decimal?\")]},\n",
    "    config={\"configurable\": {\"thread_id\": \"demo\"}, \"checkpoint\": memory},\n",
    ")\n",
    "\n",
    "for event in events:\n",
    "    print(event)"
   ]
  }
 ],
 "metadata": {
  "kernelspec": {
   "display_name": ".venv",
   "language": "python",
   "name": "python3"
  },
  "language_info": {
   "codemirror_mode": {
    "name": "ipython",
    "version": 3
   },
   "file_extension": ".py",
   "mimetype": "text/x-python",
   "name": "python",
   "nbconvert_exporter": "python",
   "pygments_lexer": "ipython3",
   "version": "3.13.1"
  }
 },
 "nbformat": 4,
 "nbformat_minor": 5
}
